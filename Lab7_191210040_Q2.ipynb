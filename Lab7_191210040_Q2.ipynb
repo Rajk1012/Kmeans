{
  "nbformat": 4,
  "nbformat_minor": 0,
  "metadata": {
    "colab": {
      "name": "Lab7_191210040_Q2.ipynb",
      "provenance": [],
      "authorship_tag": "ABX9TyOjTADk7F1ca2n41L90fwjT",
      "include_colab_link": true
    },
    "kernelspec": {
      "name": "python3",
      "display_name": "Python 3"
    },
    "language_info": {
      "name": "python"
    }
  },
  "cells": [
    {
      "cell_type": "markdown",
      "metadata": {
        "id": "view-in-github",
        "colab_type": "text"
      },
      "source": [
        "<a href=\"https://colab.research.google.com/github/Rajk1012/Kmeans/blob/main/Lab7_191210040_Q2.ipynb\" target=\"_parent\"><img src=\"https://colab.research.google.com/assets/colab-badge.svg\" alt=\"Open In Colab\"/></a>"
      ]
    },
    {
      "cell_type": "code",
      "execution_count": null,
      "metadata": {
        "id": "Ul-xQxRm9nGT"
      },
      "outputs": [],
      "source": [
        "#Rajkumar(191210040)\n",
        "#Importing Required Libraries for program\n",
        "import numpy as np\n",
        "import matplotlib.pyplot as plt\n",
        "import math as m\n",
        "from sklearn.datasets import make_blobs #used to generate the data points by its own"
      ]
    },
    {
      "cell_type": "code",
      "source": [
        "#Rajkumar(191210040)\n",
        "#for plotting the data\n",
        "def plot_data(X):\n",
        "    plt.figure(figsize=(7.5,6))\n",
        "    for i in range(len(X)):\n",
        "        plt.scatter(X[i][0],X[i][1],color='k')  "
      ],
      "metadata": {
        "id": "DI4iho6d-bbD"
      },
      "execution_count": null,
      "outputs": []
    },
    {
      "cell_type": "code",
      "source": [
        "#Rajkumar(191210040)\n",
        "#Initially assigns a random data points as centroids for the clusters\n",
        "def random_centroid(X,k):\n",
        "    #Creating k random indices and using the data point at that indices as centroid \n",
        "    random_idx=[np.random.randint(len(X)) for i in range(k)]\n",
        "    centroids=[]\n",
        "    for i in random_idx:\n",
        "        #append in centroids array\n",
        "        centroids.append(X[i])\n",
        "    return centroids"
      ],
      "metadata": {
        "id": "aja5yN9S-yzb"
      },
      "execution_count": null,
      "outputs": []
    },
    {
      "cell_type": "code",
      "source": [
        "#Rajkumar(191210040)\n",
        "#Determines which date point goes to which cluster\n",
        "def assign_cluster(X,ini_centroids,k):\n",
        "    cluster=[] #Array to store the data point's of corresponding cluster number\n",
        "    #for every point in X\n",
        "    for i in range(len(X)):\n",
        "        #Array to store the distance between the centroid and data point\n",
        "        data_centroid_dist=[]\n",
        "        #Running k loops\n",
        "        for j in range(k):\n",
        "            #appending the distance into the array\n",
        "            data_centroid_dist.append(np.linalg.norm(np.subtract(X[i],ini_centroids[j])))\n",
        "        #returns the index where the value is minimum\n",
        "        idx=np.argmin(data_centroid_dist)\n",
        "        #appends the index to the cluster array\n",
        "        cluster.append(idx)\n",
        "    return np.asarray(cluster)"
      ],
      "metadata": {
        "id": "fHc5RZ8--8j1"
      },
      "execution_count": null,
      "outputs": []
    },
    {
      "cell_type": "code",
      "source": [
        "#Rajkumar(191210040)\n",
        "#Returns the updated centroid\n",
        "def compute_centroid(X,clusters,k):\n",
        "    centroid = [] #array to stores the centroid coordinates\n",
        "    for i in range(k):\n",
        "        temp_arr=[]\n",
        "        for j in range(len(X)):\n",
        "            #checking one cluster at once and storing the respective cluster data points in the temp_arr\n",
        "            if clusters[j]==i:\n",
        "                temp_arr.append(X[j])\n",
        "        #taking mean among those points and storing it in the centroid array\n",
        "        centroid.append(np.mean(temp_arr,axis=0))\n",
        "    return np.asarray(centroid)"
      ],
      "metadata": {
        "id": "YHGZugWM-9NB"
      },
      "execution_count": null,
      "outputs": []
    },
    {
      "cell_type": "code",
      "source": [
        "#Rajkumar(191210040)\n",
        "#Return the difference between the previous centroid and the newly computed centroid\n",
        "def difference(prev,nxt):\n",
        "    diff=0 #intialize the diff value as 0\n",
        "    for i in range(len(prev)):\n",
        "        diff+=np.linalg.norm(prev[i]-nxt[i])\n",
        "    return diff"
      ],
      "metadata": {
        "id": "jDH-vxZZ-9r-"
      },
      "execution_count": null,
      "outputs": []
    },
    {
      "cell_type": "code",
      "source": [
        "#Rajkumar(191210040)\n",
        "# Used to plot in each iteration\n",
        "def show_clusters(X,clusters,centroids,ini_centroids,mark_centroid=True,show_ini_centroid=True,show_plots=True):\n",
        "    #assigning specific color to each cluster. Assuming 3 for now\n",
        "    cols={0:'r',1:'b',2:'g',3:'coral',4:'c',5:'lime'}\n",
        "    fig,ax=plt.subplots(figsize=(7.5,6));\n",
        "    #plots every cluster points\n",
        "    for i in range(len(clusters)):\n",
        "        ax.scatter(X[i][0],X[i][1],color=cols[clusters[i]])\n",
        "    #plots all the centroids\n",
        "    for j in range(len(centroids)):\n",
        "        ax.scatter(centroids[j][0],centroids[j][1],marker='*',color=cols[j])\n",
        "        if show_ini_centroid==True:\n",
        "            ax.scatter(ini_centroids[j][0],ini_centroids[j][1],marker=\"+\",s=150,color=cols[j])\n",
        "    #used to mark the centroid by drawing a circle around it\n",
        "    if mark_centroid==True:\n",
        "        for i in range(len(centroids)):\n",
        "            ax.add_artist(plt.Circle((centroids[i][0],centroids[i][1]),0.4,linewidth=2,fill=False))\n",
        "            if show_ini_centroid==True:\n",
        "                ax.add_artist(plt.Circle((ini_centroids[i][0],ini_centroids[i][1]),0.4,linewidth=2,color='y',fill=False))\n",
        "    ax.set_xlabel(\"Feature 1\")\n",
        "    ax.set_ylabel(\"Feature 2\")\n",
        "    ax.set_title(\"K-means Clustering\")\n",
        "    if show_plots==True:\n",
        "        plt.show()"
      ],
      "metadata": {
        "id": "FqWhiqbO--P8"
      },
      "execution_count": null,
      "outputs": []
    },
    {
      "cell_type": "code",
      "source": [
        "class color:\n",
        "    PURPLE = '\\033[95m'\n",
        "    CYAN = '\\033[96m'\n",
        "    DARKCYAN = '\\033[36m'\n",
        "    BLUE = '\\033[94m'\n",
        "    GREEN = '\\033[92m'\n",
        "    YELLOW = '\\033[93m'\n",
        "    RED = '\\033[91m'\n",
        "    BOLD = '\\033[1m'\n",
        "    UNDERLNE = '\\033[4m'\n",
        "    END = '\\033[0m'"
      ],
      "metadata": {
        "id": "B8fD3CMRxzNQ"
      },
      "execution_count": null,
      "outputs": []
    },
    {
      "cell_type": "code",
      "source": [
        "#Rajkumar(191210040)\n",
        "\"\"\"\n",
        "Initial Centroid is marked with plus marker and yellow circle\n",
        "Final Centroid is marked with * marker and black circle\n",
        "\n",
        "\"\"\"\n",
        "#Used to perform k means clustering\n",
        "#if show type input is not given then it will show plot for each loop\n",
        "def k_means(X,k,show_type='all',show_plots=True):\n",
        "    #initially assign a random centroid\n",
        "    c_prev=random_centroid(X,k)\n",
        "    #to store the cluster number of the data point\n",
        "    cluster=assign_cluster(X,c_prev,k) \n",
        "    #assuming that the initial difference between the centroids is 50000\n",
        "    diff = 50000\n",
        "    #storing the initial centroid values\n",
        "    ini_centroid = c_prev; \n",
        "    \n",
        "    print(color.BOLD+\"NOTE:\\n + and Yellow Circle -> Initial Centroid\\n * andBlack Circle -> Final Centroid\"+color.END)\n",
        "    \n",
        "    #stops if the difference is less than 0.001\n",
        "    if show_plots:\n",
        "        print(color.BOLD+\"\\n\\nInitial Plot:\\n\"+color.END)\n",
        "        show_clusters(X,cluster,c_prev,ini_centroid,show_plots=show_plots)\n",
        "    while diff>0.0001:\n",
        "        cluster = assign_cluster(X,c_prev,k) #assigns the data point to respective clusters\n",
        "        #plotting the initial graph\n",
        "        if show_type=='all' and show_plots:\n",
        "            show_clusters(X,cluster,c_prev,ini_centroid,False,False,show_plots=show_plots)\n",
        "            #Not to mark the centroids for other plots\n",
        "            mark_centroid=False \n",
        "            #Not to mark the initial centroid for all\n",
        "            show_ini_centroid=False\n",
        "        # to compute the new centroid point\n",
        "        c_new = compute_centroid(X,cluster,k)\n",
        "        #to compute the difference between the centroids\n",
        "        diff = difference(c_prev,c_new)\n",
        "        # now new centroid becomes current centroid point\n",
        "        c_prev=c_new \n",
        "    \n",
        "    #Final cluster centers\n",
        "    if show_plots:\n",
        "        print(color.BOLD+\"\\nInitial Cluster Centers:\\n\"+color.END)\n",
        "        print(ini_centroid)\n",
        "        print(color.BOLD+\"\\nFinal Cluster Centers:\\n\"+color.END)\n",
        "        print(c_prev)\n",
        "        #Plotting the final plot\n",
        "        print(color.BOLD+\"\\n\\nFinal Plot:\\n\"+color.END) \n",
        "        show_clusters(X,cluster,c_prev,ini_centroid,mark_centroid=True,show_ini_centroid=True)    \n",
        "    return cluster,c_prev\n",
        "        "
      ],
      "metadata": {
        "id": "sHhfKH-a--o5"
      },
      "execution_count": null,
      "outputs": []
    },
    {
      "cell_type": "code",
      "source": [
        "#Rajkumar(191210040)\n",
        "def validate(original_clus,my_clus,k):\n",
        "    ori_grp=[]\n",
        "    my_grp=[]\n",
        "    for i in range(k):\n",
        "        temp=[]\n",
        "        temp1=[]\n",
        "        for j in range(len(my_clus)):\n",
        "            if my_clus[j]==i:\n",
        "                temp.append(j)\n",
        "            if original_clus[j]==i:\n",
        "                temp1.append(j)\n",
        "        my_grp.append(temp)\n",
        "        ori_grp.append(temp1)\n",
        "    same_bool=True\n",
        "    for f in range(len(ori_grp)):\n",
        "        if my_grp[f] not in ori_grp:\n",
        "            print(color.BOLD+\"Not Same\"+color.END)\n",
        "            same_bool=False\n",
        "            break;\n",
        "    if same_bool:\n",
        "        print(color.BOLD+\"Both the clusters are equal\"+color.END)"
      ],
      "metadata": {
        "id": "wcNKWg8p--95"
      },
      "execution_count": null,
      "outputs": []
    },
    {
      "cell_type": "code",
      "source": [
        "#Rajkumar(191210040)\n",
        "k=3\n",
        "X,original_clus = make_blobs(n_samples=50, centers=3, n_features=2, random_state=20)\n",
        "#here 2nd output is the array of values indicating the data points' cluster group based on centers"
      ],
      "metadata": {
        "id": "SU2pE3TK-_VO"
      },
      "execution_count": null,
      "outputs": []
    },
    {
      "cell_type": "code",
      "source": [
        "#Rajkumar(191210040)\n",
        "plot_data(X)"
      ],
      "metadata": {
        "colab": {
          "base_uri": "https://localhost:8080/",
          "height": 374
        },
        "id": "NwojEvxe_BE-",
        "outputId": "b419b2d1-e418-4ff6-e87d-483a75824f64"
      },
      "execution_count": null,
      "outputs": [
        {
          "output_type": "display_data",
          "data": {
            "image/png": "[encoded data removed]",
            "text/plain": [
              "<Figure size 540x432 with 1 Axes>"
            ]
          },
          "metadata": {
            "needs_background": "light"
          }
        }
      ]
    },
    {
      "cell_type": "code",
      "source": [
        "#Rajkumar(191210040)\n",
        "#Final plot and the final cluster centres are at the end\n",
        "#by default show_type is set to 'all', to get only initial and final plot, set show_type to 'ini_fin'\n",
        "cluster,centroid = k_means(X,k,show_type='ini_fin')"
      ],
      "metadata": {
        "colab": {
          "base_uri": "https://localhost:8080/",
          "height": 1000
        },
        "id": "DZlJ_ug0rlYr",
        "outputId": "2417d479-7400-41f5-bd8c-cbd253435b18"
      },
      "execution_count": null,
      "outputs": [
        {
          "output_type": "stream",
          "name": "stdout",
          "text": [
            "\u001b[1mNOTE:\n",
            " + and Yellow Circle -> Initial Centroid\n",
            " * andBlack Circle -> Final Centroid\u001b[0m\n",
            "\u001b[1m\n",
            "\n",
            "Initial Plot:\n",
            "\u001b[0m\n"
          ]
        },
        {
          "output_type": "display_data",
          "data": {
            "image/png": "[encoded data removed]",
            "text/plain": [
              "<Figure size 540x432 with 1 Axes>"
            ]
          },
          "metadata": {
            "needs_background": "light"
          }
        },
        {
          "output_type": "stream",
          "name": "stdout",
          "text": [
            "\u001b[1m\n",
            "Initial Cluster Centers:\n",
            "\u001b[0m\n",
            "[array([7.27542879, 6.31825811]), array([-10.72405686,   2.41848489]), array([2.26571286, 8.36068903])]\n",
            "\u001b[1m\n",
            "Final Cluster Centers:\n",
            "\u001b[0m\n",
            "[[ 8.12972553  6.31999593]\n",
            " [-9.74449743  3.90580472]\n",
            " [ 1.75170244  7.68208961]]\n",
            "\u001b[1m\n",
            "\n",
            "Final Plot:\n",
            "\u001b[0m\n"
          ]
        },
        {
          "output_type": "display_data",
          "data": {
            "image/png": "[encoded data removed]",
            "text/plain": [
              "<Figure size 540x432 with 1 Axes>"
            ]
          },
          "metadata": {
            "needs_background": "light"
          }
        }
      ]
    },
    {
      "cell_type": "code",
      "source": [
        "#Rajkumar(191210040)\n",
        "validate(original_clus,cluster,k)"
      ],
      "metadata": {
        "colab": {
          "base_uri": "https://localhost:8080/"
        },
        "id": "EjI10qsVrl7I",
        "outputId": "75a5b298-e1c7-4e9c-c322-596fa8c95c7a"
      },
      "execution_count": null,
      "outputs": [
        {
          "output_type": "stream",
          "name": "stdout",
          "text": [
            "\u001b[1mBoth the clusters are equal\u001b[0m\n"
          ]
        }
      ]
    },
    {
      "cell_type": "code",
      "source": [
        "#Rajkumar(191210040)\n",
        "from sklearn.cluster import KMeans\n",
        "km = KMeans(\n",
        "    n_clusters=3, init='random',\n",
        "    n_init=10, max_iter=300, \n",
        "    tol=1e-04, random_state=0\n",
        ")\n",
        "y_km = km.fit_predict(X)\n",
        "\n",
        "plt.scatter(X[y_km == 0, 0], X[y_km == 0, 1],c='orange')\n",
        "plt.scatter(X[y_km == 1, 0], X[y_km == 1, 1],c='black')\n",
        "plt.scatter(X[y_km == 2, 0], X[y_km == 2, 1],c='green')\n",
        "plt.show()"
      ],
      "metadata": {
        "colab": {
          "base_uri": "https://localhost:8080/",
          "height": 265
        },
        "id": "oMJvlcSbrmmH",
        "outputId": "c64d48b4-9029-4e0f-8bd3-e490d2abdf64"
      },
      "execution_count": null,
      "outputs": [
        {
          "output_type": "display_data",
          "data": {
            "image/png": "[encoded data removed]",
            "text/plain": [
              "<Figure size 432x288 with 1 Axes>"
            ]
          },
          "metadata": {
            "needs_background": "light"
          }
        }
      ]
    },
    {
      "cell_type": "code",
      "source": [
        "#Rajkumar(191210040)\n",
        "sse = []\n",
        "k=range(1, 11)\n",
        "for i in k:\n",
        "    km = KMeans(\n",
        "        n_clusters=i, init='random',\n",
        "        n_init=10, max_iter=300,\n",
        "        tol=1e-04, random_state=0\n",
        "    )\n",
        "    km.fit(X)\n",
        "    sse.append(km.inertia_)\n",
        "plt.plot(k, sse, marker='o')\n",
        "plt.xlabel('Number of total clusters')\n",
        "plt.ylabel('Sum of Squared Error')\n",
        "plt.show()"
      ],
      "metadata": {
        "colab": {
          "base_uri": "https://localhost:8080/"
        },
        "id": "YbIhqzpQrnH4",
        "outputId": "813c6ba8-7b7c-4396-faac-fff7367019c0"
      },
      "execution_count": null,
      "outputs": [
        {
          "output_type": "display_data",
          "data": {
            "image/png": "[encoded data removed]",
            "text/plain": [
              "<Figure size 432x288 with 1 Axes>"
            ]
          },
          "metadata": {
            "needs_background": "light"
          }
        }
      ]
    }
  ]
}